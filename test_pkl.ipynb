{
 "cells": [
  {
   "cell_type": "code",
   "execution_count": 2,
   "id": "b372a0f9",
   "metadata": {},
   "outputs": [],
   "source": [
    "import joblib\n",
    "import pandas as pd"
   ]
  },
  {
   "cell_type": "code",
   "execution_count": 3,
   "id": "2c11f738",
   "metadata": {},
   "outputs": [],
   "source": [
    "model = joblib.load('pipe.pkl')"
   ]
  },
  {
   "cell_type": "code",
   "execution_count": 4,
   "id": "d9262d6c",
   "metadata": {},
   "outputs": [
    {
     "data": {
      "text/plain": [
       "Pipeline(steps=[('preprocess',\n",
       "                 ColumnTransformer(transformers=[('cat_pipe',\n",
       "                                                  Pipeline(steps=[('encode',\n",
       "                                                                   LeaveOneOutEncoder())]),\n",
       "                                                  Index(['Car_Name', 'Fuel_Type', 'Seller_Type', 'Transmission'], dtype='object')),\n",
       "                                                 ('numeric_pipe',\n",
       "                                                  Pipeline(steps=[('scale',\n",
       "                                                                   StandardScaler())]),\n",
       "                                                  Index(['Year', 'Present_Price', 'Kms_Driven', 'Owner'], dtype='object'))])),\n",
       "                ('linearregression', LinearRegression())])"
      ]
     },
     "execution_count": 4,
     "metadata": {},
     "output_type": "execute_result"
    }
   ],
   "source": [
    "model"
   ]
  },
  {
   "cell_type": "code",
   "execution_count": null,
   "id": "00865a04",
   "metadata": {},
   "outputs": [],
   "source": [
    "Car_Name\tYear\tSelling_Price\tPresent_Price\tKms_Driven\tFuel_Type\tSeller_Type\tTransmission\tOwner"
   ]
  },
  {
   "cell_type": "code",
   "execution_count": 6,
   "id": "cded655c",
   "metadata": {},
   "outputs": [],
   "source": [
    "test = {'Car_Name': 'ritz', 'Year': 2013, 'Present_Price': 5, 'Kms_Driven': 50000, 'Fuel_Type': 'Petrol', 'Seller_Type': 'Dealer', 'Transmission': 'Manual', 'Owner': 0}"
   ]
  },
  {
   "cell_type": "code",
   "execution_count": 12,
   "id": "b1e82a59",
   "metadata": {},
   "outputs": [],
   "source": [
    "test_df = pd.DataFrame([test])"
   ]
  },
  {
   "cell_type": "code",
   "execution_count": 13,
   "id": "490cd4f0",
   "metadata": {},
   "outputs": [
    {
     "data": {
      "text/html": [
       "<div>\n",
       "<style scoped>\n",
       "    .dataframe tbody tr th:only-of-type {\n",
       "        vertical-align: middle;\n",
       "    }\n",
       "\n",
       "    .dataframe tbody tr th {\n",
       "        vertical-align: top;\n",
       "    }\n",
       "\n",
       "    .dataframe thead th {\n",
       "        text-align: right;\n",
       "    }\n",
       "</style>\n",
       "<table border=\"1\" class=\"dataframe\">\n",
       "  <thead>\n",
       "    <tr style=\"text-align: right;\">\n",
       "      <th></th>\n",
       "      <th>Car_Name</th>\n",
       "      <th>Year</th>\n",
       "      <th>Present_Price</th>\n",
       "      <th>Kms_Driven</th>\n",
       "      <th>Fuel_Type</th>\n",
       "      <th>Seller_Type</th>\n",
       "      <th>Transmission</th>\n",
       "      <th>Owner</th>\n",
       "    </tr>\n",
       "  </thead>\n",
       "  <tbody>\n",
       "    <tr>\n",
       "      <th>0</th>\n",
       "      <td>ritz</td>\n",
       "      <td>2013</td>\n",
       "      <td>5</td>\n",
       "      <td>50000</td>\n",
       "      <td>Petrol</td>\n",
       "      <td>Dealer</td>\n",
       "      <td>Manual</td>\n",
       "      <td>0</td>\n",
       "    </tr>\n",
       "  </tbody>\n",
       "</table>\n",
       "</div>"
      ],
      "text/plain": [
       "  Car_Name  Year  Present_Price  Kms_Driven Fuel_Type Seller_Type  \\\n",
       "0     ritz  2013              5       50000    Petrol      Dealer   \n",
       "\n",
       "  Transmission  Owner  \n",
       "0       Manual      0  "
      ]
     },
     "execution_count": 13,
     "metadata": {},
     "output_type": "execute_result"
    }
   ],
   "source": [
    "test_df"
   ]
  },
  {
   "cell_type": "code",
   "execution_count": 14,
   "id": "a6199033",
   "metadata": {},
   "outputs": [
    {
     "data": {
      "text/plain": [
       "array([2.68458399])"
      ]
     },
     "execution_count": 14,
     "metadata": {},
     "output_type": "execute_result"
    }
   ],
   "source": [
    "model.predict(test_df)"
   ]
  },
  {
   "cell_type": "code",
   "execution_count": null,
   "id": "02c1d55a",
   "metadata": {},
   "outputs": [],
   "source": []
  }
 ],
 "metadata": {
  "kernelspec": {
   "display_name": "Python 3 (ipykernel)",
   "language": "python",
   "name": "python3"
  },
  "language_info": {
   "codemirror_mode": {
    "name": "ipython",
    "version": 3
   },
   "file_extension": ".py",
   "mimetype": "text/x-python",
   "name": "python",
   "nbconvert_exporter": "python",
   "pygments_lexer": "ipython3",
   "version": "3.8.5"
  }
 },
 "nbformat": 4,
 "nbformat_minor": 5
}
